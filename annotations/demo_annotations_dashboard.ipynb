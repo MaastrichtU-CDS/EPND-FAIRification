{
 "cells": [
  {
   "cell_type": "code",
   "execution_count": null,
   "id": "a53ac9a8",
   "metadata": {},
   "outputs": [],
   "source": [
    "import subprocess\n",
    "\n",
    "subprocess.call(['python3', 'annotations.py'])"
   ]
  },
  {
   "cell_type": "code",
   "execution_count": null,
   "id": "d3a76b11",
   "metadata": {},
   "outputs": [],
   "source": [
    "import subprocess\n",
    "\n",
    "subprocess.call(['python3', 'demo_dash/dash_main.py'])"
   ]
  },
  {
   "cell_type": "code",
   "execution_count": null,
   "id": "96aeaf2d",
   "metadata": {},
   "outputs": [],
   "source": []
  }
 ],
 "metadata": {
  "kernelspec": {
   "display_name": "Python 3 (ipykernel)",
   "language": "python",
   "name": "python3"
  },
  "language_info": {
   "codemirror_mode": {
    "name": "ipython",
    "version": 3
   },
   "file_extension": ".py",
   "mimetype": "text/x-python",
   "name": "python",
   "nbconvert_exporter": "python",
   "pygments_lexer": "ipython3",
   "version": "3.9.6"
  }
 },
 "nbformat": 4,
 "nbformat_minor": 5
}
