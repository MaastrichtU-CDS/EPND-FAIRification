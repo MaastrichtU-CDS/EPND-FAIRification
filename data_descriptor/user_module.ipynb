{
 "cells": [
  {
   "cell_type": "code",
   "execution_count": null,
   "id": "44f76ede",
   "metadata": {},
   "outputs": [],
   "source": [
    "import subprocess   \n",
    "import requests\n",
    "import json\n",
    "query = \"\"\"\n",
    "  ASK WHERE { GRAPH <http://annotation.local/> { ?s ?p ?o } }       \n",
    "\"\"\" \n",
    "endpoint = \"http://rdf-store:7200/repositories/userRepo\"\n",
    "annotationResponse = requests.post(endpoint,\n",
    "                                   data=\"query=\" + query,\n",
    "                                   headers={\n",
    "                                       \"Content-Type\": \"application/x-www-form-urlencoded\",\n",
    "                                        #\"Accept\": \"application/json\"\n",
    "                                   })\n",
    "output = annotationResponse.text\n",
    "res = json.loads(output)\n",
    "result = res[\"boolean\"]\n",
    "\n",
    "if result == False:\n",
    "    subprocess.call(['python3', 'data_descriptor_main.py'])\n",
    "else:\n",
    "    subprocess.call(['python3', 'dash_main.py'])\n"
   ]
  }
 ],
 "metadata": {
  "kernelspec": {
   "display_name": "Python 3 (ipykernel)",
   "language": "python",
   "name": "python3"
  },
  "language_info": {
   "codemirror_mode": {
    "name": "ipython",
    "version": 3
   },
   "file_extension": ".py",
   "mimetype": "text/x-python",
   "name": "python",
   "nbconvert_exporter": "python",
   "pygments_lexer": "ipython3",
   "version": "3.9.7"
  }
 },
 "nbformat": 4,
 "nbformat_minor": 5
}
