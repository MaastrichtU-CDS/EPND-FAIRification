{
 "cells": [
  {
   "cell_type": "code",
   "execution_count": null,
   "id": "44f76ede",
   "metadata": {},
   "outputs": [
    {
     "name": "stdout",
     "output_type": "stream",
     "text": [
      " * Serving Flask app 'data_descriptor_main' (lazy loading)\n",
      " * Environment: production\n",
      "   WARNING: This is a development server. Do not use it in a production deployment.\n",
      "   Use a production WSGI server instead.\n",
      " * Debug mode: on\n"
     ]
    },
    {
     "name": "stderr",
     "output_type": "stream",
     "text": [
      " * Running on all addresses.\n",
      "   WARNING: This is a development server. Do not use it in a production deployment.\n",
      " * Running on http://172.23.0.4:5000/ (Press CTRL+C to quit)\n",
      " * Restarting with stat\n",
      " * Debugger is active!\n",
      " * Debugger PIN: 100-756-330\n",
      "172.23.0.1 - - [24/Aug/2021 18:00:09] \"GET / HTTP/1.1\" 200 -\n"
     ]
    },
    {
     "name": "stdout",
     "output_type": "stream",
     "text": [
      "2021-08-24 18:00:19 INFO  MainApp:85 - Start extracting ontology: 1629828019079\n",
      "2021-08-24 18:00:19 INFO  MainApp:125 - Table name: {schema=null, catalog=null, name=data}\n",
      "2021-08-24 18:00:21 INFO  MainApp:88 - Done extracting ontology: 1629828021673\n",
      "2021-08-24 18:00:21 INFO  MainApp:89 - Ontology exported to ontology.owl\n",
      "2021-08-24 18:00:21 INFO  MainApp:93 - Start extracting data: 1629828021674\n",
      "2021-08-24 18:00:21 INFO  DataFactory:112 - Start processing table data\n"
     ]
    }
   ],
   "source": [
    "import subprocess   \n",
    "import requests\n",
    "import json\n",
    "query = \"\"\"\n",
    "  ASK WHERE { GRAPH <http://annotation.local/> { ?s ?p ?o } }       \n",
    "\"\"\" \n",
    "endpoint = \"http://rdf-store:7200/repositories/userRepo\"\n",
    "annotationResponse = requests.post(endpoint,\n",
    "                                   data=\"query=\" + query,\n",
    "                                   headers={\n",
    "                                       \"Content-Type\": \"application/x-www-form-urlencoded\",\n",
    "                                        #\"Accept\": \"application/json\"\n",
    "                                   })\n",
    "output = annotationResponse.text\n",
    "res = json.loads(output)\n",
    "result = res[\"boolean\"]\n",
    "\n",
    "if result == False:\n",
    "    subprocess.call(['python3', 'data_descriptor_main.py'])\n",
    "else:\n",
    "    subprocess.call(['python3', 'dash_main.py'])\n"
   ]
  },
  {
   "cell_type": "code",
   "execution_count": null,
   "id": "65990307",
   "metadata": {},
   "outputs": [],
   "source": []
  }
 ],
 "metadata": {
  "kernelspec": {
   "display_name": "Python 3 (ipykernel)",
   "language": "python",
   "name": "python3"
  },
  "language_info": {
   "codemirror_mode": {
    "name": "ipython",
    "version": 3
   },
   "file_extension": ".py",
   "mimetype": "text/x-python",
   "name": "python",
   "nbconvert_exporter": "python",
   "pygments_lexer": "ipython3",
   "version": "3.9.6"
  }
 },
 "nbformat": 4,
 "nbformat_minor": 5
}
